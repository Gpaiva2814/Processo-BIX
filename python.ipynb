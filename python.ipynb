{
 "cells": [
  {
   "cell_type": "code",
   "execution_count": 54,
   "metadata": {},
   "outputs": [],
   "source": [
    "import pandas as pd\n",
    "import numpy as np\n",
    "from scipy.stats import randint,pointbiserialr\n",
    "import matplotlib.pyplot as plt\n",
    "\n",
    "from sklearn.model_selection import train_test_split, RandomizedSearchCV\n",
    "from sklearn.preprocessing import LabelEncoder\n",
    "from sklearn.metrics import accuracy_score,confusion_matrix, roc_auc_score,roc_curve, auc, precision_score, f1_score,make_scorer\n",
    "\n",
    "from sklearn.linear_model import LogisticRegression\n",
    "from sklearn.ensemble import RandomForestClassifier\n",
    "from xgboost import XGBClassifier"
   ]
  },
  {
   "cell_type": "markdown",
   "metadata": {},
   "source": [
    "Visto o objetivo do problema queremos montar um modelo de classificacao com uma boa taxa de assertividade para a classe pos (apresenta defeitos no sistema de ar) montaremos todo o modelo bucando otimizar o valor do ROC AUC que mede o quao bem o modelo separa a variavel resposta (variavel a ser classificada)"
   ]
  },
  {
   "cell_type": "markdown",
   "metadata": {},
   "source": [
    "### Tratamentos iniciais"
   ]
  },
  {
   "cell_type": "code",
   "execution_count": 40,
   "metadata": {},
   "outputs": [],
   "source": [
    "previous_year = pd.read_csv(r\"D:\\Facul\\Dataset for candidates\\air_system_previous_years.csv\")\n",
    "present_year =  pd.read_csv(r\"D:\\Facul\\Dataset for candidates\\air_system_present_year.csv\")\n",
    "\n",
    "previous_year.replace('na', np.nan, inplace=True)\n",
    "present_year.replace('na', np.nan, inplace=True)"
   ]
  },
  {
   "cell_type": "markdown",
   "metadata": {},
   "source": [
    "Irei manter apenas colunas que possuam uma quantidade consideravel de registros preenchidos, isto é, aquelas onde pelo menos 90% dos registros esta preenchido"
   ]
  },
  {
   "cell_type": "code",
   "execution_count": 4,
   "metadata": {},
   "outputs": [],
   "source": [
    "columns_data = []\n",
    "\n",
    "# Iterando sobre cada coluna do DataFrame\n",
    "for col in previous_year.columns:\n",
    "    # Calculando a porcentagem de valores nulos na coluna atual\n",
    "    null_percentage = previous_year[col].isnull().sum() / previous_year.shape[0]\n",
    "    \n",
    "    # Adicionando os dados da coluna atual à lista\n",
    "    columns_data.append({'Coluna': col, '% de Valores Nulos': null_percentage})\n",
    "\n",
    "# Criando um DataFrame a partir da lista de dicionários\n",
    "columns_df = pd.DataFrame(columns_data)"
   ]
  },
  {
   "cell_type": "code",
   "execution_count": 5,
   "metadata": {},
   "outputs": [],
   "source": [
    "columns_to_keep = columns_df['Coluna'][columns_df[\"% de Valores Nulos\"] < 0.1]\n",
    "\n",
    "# Criando um novo DataFrame apenas com as colunas desejadas\n",
    "previous_year_filtered = previous_year[columns_to_keep]"
   ]
  },
  {
   "cell_type": "markdown",
   "metadata": {},
   "source": [
    "Como em minha percepção o valor nulo deve ser visto de forma diferente de um valor, irei atribuir a ele um valor especifico, -1, mas antes disso irei verificar se ja nao possuo em alguma variavel o valor -1"
   ]
  },
  {
   "cell_type": "code",
   "execution_count": 6,
   "metadata": {},
   "outputs": [
    {
     "name": "stdout",
     "output_type": "stream",
     "text": [
      "Colunas com valores negativos:\n",
      "[]\n"
     ]
    },
    {
     "name": "stderr",
     "output_type": "stream",
     "text": [
      "C:\\Users\\gusta\\AppData\\Local\\Temp\\ipykernel_5452\\1979971313.py:2: SettingWithCopyWarning: \n",
      "A value is trying to be set on a copy of a slice from a DataFrame.\n",
      "Try using .loc[row_indexer,col_indexer] = value instead\n",
      "\n",
      "See the caveats in the documentation: https://pandas.pydata.org/pandas-docs/stable/user_guide/indexing.html#returning-a-view-versus-a-copy\n",
      "  previous_year_filtered[numeric_cols] = previous_year_filtered[numeric_cols].apply(pd.to_numeric, errors='coerce')\n"
     ]
    }
   ],
   "source": [
    "numeric_cols = previous_year_filtered.select_dtypes(include=[np.number]).columns\n",
    "previous_year_filtered[numeric_cols] = previous_year_filtered[numeric_cols].apply(pd.to_numeric, errors='coerce')\n",
    "\n",
    "# Verificar se há valores negativos em colunas numéricas\n",
    "tem_negativos = (previous_year_filtered[numeric_cols] < 0).any()\n",
    "\n",
    "# Exibindo quais colunas têm valores negativos\n",
    "print(\"Colunas com valores negativos:\")\n",
    "print(tem_negativos[tem_negativos].index.tolist())"
   ]
  },
  {
   "cell_type": "code",
   "execution_count": 41,
   "metadata": {},
   "outputs": [],
   "source": [
    "df_train = previous_year_filtered.fillna(-1)\n",
    "present_year = present_year.fillna(-1)"
   ]
  },
  {
   "cell_type": "markdown",
   "metadata": {},
   "source": [
    "### Modelo de classificação"
   ]
  },
  {
   "cell_type": "code",
   "execution_count": 49,
   "metadata": {},
   "outputs": [
    {
     "name": "stderr",
     "output_type": "stream",
     "text": [
      "C:\\Users\\gusta\\AppData\\Local\\Temp\\ipykernel_5452\\4167003281.py:4: PerformanceWarning: DataFrame is highly fragmented.  This is usually the result of calling `frame.insert` many times, which has poor performance.  Consider joining all columns at once using pd.concat(axis=1) instead. To get a de-fragmented frame, use `newframe = frame.copy()`\n",
      "  df_train['class_encoded'] = le.fit_transform(df_train['class'])  # Substitua 'target' pelo nome da sua variável resposta\n"
     ]
    }
   ],
   "source": [
    "df_train[df_train.columns.difference(['class'])] = df_train[df_train.columns.difference(['class'])].astype(float)\n",
    "\n",
    "le = LabelEncoder()\n",
    "df_train['class_encoded'] = le.fit_transform(df_train['class'])  # Substitua 'target' pelo nome da sua variável resposta\n",
    "\n",
    "X = df_train.drop(['class', 'class_encoded'], axis=1)  # Preditores\n",
    "y = df_train['class_encoded']  # Variável resposta codificada"
   ]
  },
  {
   "cell_type": "code",
   "execution_count": 11,
   "metadata": {},
   "outputs": [],
   "source": [
    "X_train_val, X_test, y_train_val, y_test = train_test_split(X, y, test_size=0.2, random_state=42)\n",
    "\n",
    "# Em seguida, dividir o conjunto de treinamento + validação em conjunto de treinamento e conjunto de validação (75%/25%)\n",
    "X_train, X_val, y_train, y_val = train_test_split(X_train_val, y_train_val, test_size=0.25, random_state=42)\n"
   ]
  },
  {
   "cell_type": "markdown",
   "metadata": {},
   "source": [
    "##### Regressão Logistica"
   ]
  },
  {
   "cell_type": "code",
   "execution_count": null,
   "metadata": {},
   "outputs": [],
   "source": [
    "model = LogisticRegression(max_iter=1000)\n",
    "model.fit(X_train, y_train)\n",
    "y_pred = model.predict(X_test)"
   ]
  },
  {
   "cell_type": "code",
   "execution_count": null,
   "metadata": {},
   "outputs": [],
   "source": [
    "accuracy = accuracy_score(y_test, y_pred)\n",
    "roc_auc = roc_auc_score(y_test, y_pred)\n",
    "precision = precision_score(y_test, y_pred)\n",
    "f1 = f1_score(y_test, y_pred)\n",
    "\n",
    "# Criando um DataFrame com as métricas\n",
    "metrics_df = pd.DataFrame({\n",
    "    'Métrica': ['Accuracy', 'ROC-AUC', 'Precision', 'F1-Score'],\n",
    "    'Valor': [accuracy, roc_auc, precision, f1]\n",
    "})\n",
    "print(metrics_df.to_string(index=False))"
   ]
  },
  {
   "cell_type": "markdown",
   "metadata": {},
   "source": [
    "##### Random Forest"
   ]
  },
  {
   "cell_type": "code",
   "execution_count": null,
   "metadata": {},
   "outputs": [],
   "source": [
    "rf_classifier = RandomForestClassifier(random_state=42)\n",
    "rf_classifier.fit(X_train, y_train)\n",
    "y_pred = rf_classifier.predict(X_test)"
   ]
  },
  {
   "cell_type": "code",
   "execution_count": null,
   "metadata": {},
   "outputs": [],
   "source": [
    "accuracy = accuracy_score(y_test, y_pred)\n",
    "roc_auc = roc_auc_score(y_test, y_pred)\n",
    "precision = precision_score(y_test, y_pred)\n",
    "f1 = f1_score(y_test, y_pred)\n",
    "\n",
    "# Criando um DataFrame com as métricas\n",
    "metrics_df = pd.DataFrame({\n",
    "    'Métrica': ['Accuracy', 'ROC-AUC', 'Precision', 'F1-Score'],\n",
    "    'Valor': [accuracy, roc_auc, precision, f1]\n",
    "})\n",
    "print(metrics_df.to_string(index=False))"
   ]
  },
  {
   "cell_type": "markdown",
   "metadata": {},
   "source": [
    "##### XGBOOST"
   ]
  },
  {
   "cell_type": "code",
   "execution_count": null,
   "metadata": {},
   "outputs": [],
   "source": [
    "model = XGBClassifier()\n",
    "model.fit(X_train, y_train)\n",
    "y_pred = model.predict(X_test)"
   ]
  },
  {
   "cell_type": "code",
   "execution_count": null,
   "metadata": {},
   "outputs": [],
   "source": [
    "accuracy = accuracy_score(y_test, y_pred)\n",
    "roc_auc = roc_auc_score(y_test, y_pred)\n",
    "precision = precision_score(y_test, y_pred)\n",
    "f1 = f1_score(y_test, y_pred)\n",
    "\n",
    "# Criando um DataFrame com as métricas\n",
    "metrics_df = pd.DataFrame({\n",
    "    'Métrica': ['Accuracy', 'ROC-AUC', 'Precision', 'F1-Score'],\n",
    "    'Valor': [accuracy, roc_auc, precision, f1]\n",
    "})\n",
    "print(metrics_df.to_string(index=False))"
   ]
  },
  {
   "cell_type": "markdown",
   "metadata": {},
   "source": [
    "### Escolha dos hyper-parametros"
   ]
  },
  {
   "cell_type": "markdown",
   "metadata": {},
   "source": [
    "Visto que os algoritmos Random forest e XGBoost deram resultados similares seguiremos com eles para a escolha os hyper parametros com o metodo de random search"
   ]
  },
  {
   "cell_type": "code",
   "execution_count": 19,
   "metadata": {},
   "outputs": [
    {
     "name": "stdout",
     "output_type": "stream",
     "text": [
      "Fitting 3 folds for each of 100 candidates, totalling 300 fits\n",
      "Melhores hiperparâmetros encontrados: {'bootstrap': True, 'criterion': 'entropy', 'max_depth': 11, 'max_features': 5, 'min_samples_leaf': 3, 'min_samples_split': 8, 'n_estimators': 410}\n",
      "Melhor ROC AUC: 0.9852109103989805\n"
     ]
    }
   ],
   "source": [
    "# Definir o modelo\n",
    "rf = RandomForestClassifier()\n",
    "\n",
    "# Definir o espaço de busca dos hiperparâmetros\n",
    "param_distributions = {\n",
    "            'max_depth':list(np.arange(3, 21, step=2)) + [None],\n",
    "            'n_estimators':np.arange(10, 500, step=50),\n",
    "            'max_features':randint(1,7),\n",
    "            'criterion':['gini','entropy'],\n",
    "            'min_samples_leaf':randint(1,4),\n",
    "            'min_samples_split':np.arange(2, 10, step=2),\n",
    "            'bootstrap': [True, False]\n",
    "            }\n",
    "\n",
    "# Configurar a busca aleatória com a métrica ROC AUC\n",
    "random_search = RandomizedSearchCV(\n",
    "    estimator=rf,\n",
    "    param_distributions=param_distributions,\n",
    "    n_iter=100,\n",
    "    cv=3,\n",
    "    verbose=1,\n",
    "    random_state=42,\n",
    "    n_jobs=-1,\n",
    "    scoring='roc_auc'\n",
    ")\n",
    "\n",
    "# Ajustar a busca ao conjunto de dados\n",
    "random_search.fit(X_val, y_val)\n",
    "\n",
    "# Melhor conjunto de hiperparâmetros\n",
    "print(\"Melhores hiperparâmetros encontrados:\", random_search.best_params_)\n",
    "\n",
    "# Melhor pontuação ROC AUC\n",
    "print(\"Melhor ROC AUC:\", random_search.best_score_)"
   ]
  },
  {
   "cell_type": "code",
   "execution_count": 24,
   "metadata": {},
   "outputs": [
    {
     "name": "stdout",
     "output_type": "stream",
     "text": [
      "Fitting 3 folds for each of 100 candidates, totalling 300 fits\n",
      "Melhores hiperparâmetros encontrados: {'colsample_bytree': 0.6, 'gamma': 0.4, 'learning_rate': 0.17, 'max_depth': 40, 'min_child_weight': 2, 'n_estimators': 360, 'reg_alpha': 0.0, 'reg_lambda': 0.9, 'subsample': 0.6}\n",
      "Melhor ROC AUC: 0.8069689472622049\n"
     ]
    }
   ],
   "source": [
    "xgb_model = XGBClassifier( eval_metric='logloss')\n",
    "\n",
    "# Definir a grade de parâmetros\n",
    "param_dist = {\n",
    "    'n_estimators': np.arange(10, 500, step=50),\n",
    "    'max_depth': list(np.arange(10, 100, step=10)) + [None],\n",
    "    'learning_rate': np.arange(0.01, 0.21, step=0.04),\n",
    "    'subsample': np.arange(0.6, 1.0, step=0.1),\n",
    "    'colsample_bytree': np.arange(0.6, 1.0, step=0.1),\n",
    "    'min_child_weight': randint(1, 6),\n",
    "    'gamma': np.arange(0, 0.5, step=0.1),\n",
    "    'reg_alpha': np.arange(0, 1.1, step=0.1),\n",
    "    'reg_lambda': np.arange(0, 1.1, step=0.1)\n",
    "}\n",
    "\n",
    "# Configurar o RandomizedSearchCV\n",
    "random_search = RandomizedSearchCV(\n",
    "    xgb_model, \n",
    "    param_distributions=param_dist, \n",
    "    n_iter=100, \n",
    "    scoring=make_scorer(roc_auc_score), \n",
    "    cv=3, \n",
    "    verbose=3, \n",
    "    random_state=42,\n",
    "    n_jobs=-1\n",
    ")\n",
    "\n",
    "# Executar o Random Search\n",
    "random_search.fit(X_val, y_val)\n",
    "\n",
    "# Melhor conjunto de hiperparâmetros\n",
    "print(\"Melhores hiperparâmetros encontrados:\", random_search.best_params_)\n",
    "\n",
    "# Melhor pontuação ROC AUC\n",
    "print(\"Melhor ROC AUC:\", random_search.best_score_)"
   ]
  },
  {
   "cell_type": "markdown",
   "metadata": {},
   "source": [
    "Pelo ROC-AUC o modelo escolhido sera o random forest com os seguintes hyper-parametros:\n",
    "- bootstrap: True\n",
    "- criterion: entropy\n",
    "- max_depth: 11\n",
    "- max_features: 5\n",
    "- min_samples_leaf: 3\n",
    "- min_samples_split: 8\n",
    "- n_estimators: 410"
   ]
  },
  {
   "cell_type": "markdown",
   "metadata": {},
   "source": [
    "### Escolha do melhor threshold"
   ]
  },
  {
   "cell_type": "code",
   "execution_count": 28,
   "metadata": {},
   "outputs": [
    {
     "data": {
      "image/png": "[encoded data removed]",
      "text/plain": [
       "<Figure size 800x600 with 1 Axes>"
      ]
     },
     "metadata": {},
     "output_type": "display_data"
    }
   ],
   "source": [
    "params = {\n",
    "    'bootstrap': True,\n",
    "    'criterion': 'entropy',\n",
    "    'max_depth': 11,\n",
    "    'max_features': 5,\n",
    "    'min_samples_leaf': 3,\n",
    "    'min_samples_split': 8,\n",
    "    'n_estimators': 410\n",
    "}\n",
    "\n",
    "# Criar o classificador Random Forest\n",
    "model = RandomForestClassifier(**params, random_state=42)\n",
    "\n",
    "# Treinar o modelo\n",
    "model.fit(X_train, y_train)\n",
    "\n",
    "# Prever as probabilidades no conjunto de teste\n",
    "y_prob = model.predict_proba(X_val)[:, 1]\n",
    "\n",
    "# Calcular a curva ROC\n",
    "fpr, tpr, thresholds = roc_curve(y_val, y_prob)\n",
    "roc_auc = auc(fpr, tpr)\n",
    "\n",
    "# Plotar a curva ROC\n",
    "plt.figure(figsize=(8, 6))\n",
    "plt.plot(fpr, tpr, color='darkorange', lw=2, label='ROC curve (area = %0.2f)' % roc_auc)\n",
    "plt.plot([0, 1], [0, 1], color='navy', lw=2, linestyle='--')\n",
    "plt.xlim([0.0, 1.0])\n",
    "plt.ylim([0.0, 1.05])\n",
    "plt.xlabel('Taxa de Falso Positivo (FPR)')\n",
    "plt.ylabel('Taxa de Verdadeiro Positivo (TPR)')\n",
    "plt.title('Curva ROC')\n",
    "plt.legend(loc=\"lower right\")\n",
    "plt.show()"
   ]
  },
  {
   "cell_type": "code",
   "execution_count": 29,
   "metadata": {},
   "outputs": [
    {
     "name": "stdout",
     "output_type": "stream",
     "text": [
      "Threshold ótimo: 0.02055262831075027\n"
     ]
    }
   ],
   "source": [
    "# Encontrar o threshold ótimo\n",
    "optimal_idx = np.argmax(tpr - fpr)\n",
    "optimal_threshold = thresholds[optimal_idx]\n",
    "print(f'Threshold ótimo: {optimal_threshold}')"
   ]
  },
  {
   "cell_type": "markdown",
   "metadata": {},
   "source": [
    "### Dados finais de previsao"
   ]
  },
  {
   "cell_type": "code",
   "execution_count": 47,
   "metadata": {},
   "outputs": [
    {
     "name": "stdout",
     "output_type": "stream",
     "text": [
      "  Métrica    Valor\n",
      " Accuracy 0.949562\n",
      "  ROC-AUC 0.963765\n",
      "Precision 0.314751\n",
      " F1-Score 0.476314\n"
     ]
    }
   ],
   "source": [
    "present_year[present_year.columns.difference(['class'])] = present_year[present_year.columns.difference(['class'])].astype(float)\n",
    "present_year = present_year[columns_to_keep]\n",
    "\n",
    "X_real = present_year.drop(columns=['class'], axis=1)  # Preditores\n",
    "y_real = le.fit_transform(present_year['class'])  # Variável resposta codificada\n",
    "\n",
    "y_pred = model.predict_proba(X_real)[:, 1]\n",
    "y_pred_binary = (y_pred > optimal_threshold).astype(int)"
   ]
  },
  {
   "cell_type": "code",
   "execution_count": 48,
   "metadata": {},
   "outputs": [
    {
     "name": "stdout",
     "output_type": "stream",
     "text": [
      "Matriz de Confusão:\n",
      "          Predicted 0  Predicted 1\n",
      "Actual 0        14826          799\n",
      "Actual 1            8          367\n"
     ]
    }
   ],
   "source": [
    "conf_matrix = confusion_matrix(y_real, y_pred_binary)\n",
    "\n",
    "# Exibe a matriz de confusão de forma mais legível\n",
    "confusion_df = pd.DataFrame(conf_matrix, index=['Actual 0', 'Actual 1'], columns=['Predicted 0', 'Predicted 1'])\n",
    "print(confusion_df)"
   ]
  },
  {
   "cell_type": "code",
   "execution_count": 50,
   "metadata": {},
   "outputs": [],
   "source": [
    "tempdf = pd.DataFrame({'Real':y_real,'Previsto':y_pred_binary})\n",
    "\n",
    "tempdf['Custo'] = 0  # Inicializa a coluna 'Custo'\n",
    "\n",
    "# Aplicar as condições e calcular o custo\n",
    "tempdf.loc[(tempdf['Real'] == 0) & (tempdf['Previsto'] == 1), 'Custo'] = 10\n",
    "tempdf.loc[(tempdf['Real'] == 1) & (tempdf['Previsto'] == 1), 'Custo'] = 25\n",
    "tempdf.loc[(tempdf['Real'] == 1) & (tempdf['Previsto'] == 0), 'Custo'] = 500\n",
    "\n",
    "# Calcular o custo total\n",
    "custo_total = tempdf['Custo'].sum()"
   ]
  },
  {
   "cell_type": "code",
   "execution_count": 51,
   "metadata": {},
   "outputs": [
    {
     "name": "stdout",
     "output_type": "stream",
     "text": [
      "            Métrica        Valor\n",
      "           Accuracy     0.949562\n",
      "            ROC-AUC     0.963765\n",
      "          Precision     0.314751\n",
      "           F1-Score     0.476314\n",
      "Custo de Manutenção 21165.000000\n"
     ]
    }
   ],
   "source": [
    "# Calcular as métricas com o threshold ajustado\n",
    "accuracy = accuracy_score(y_real, y_pred_binary)\n",
    "roc_auc = roc_auc_score(y_real, y_pred_binary)\n",
    "precision = precision_score(y_real, y_pred_binary)\n",
    "f1 = f1_score(y_real, y_pred_binary)\n",
    "\n",
    "# Criar um DataFrame com as métricas\n",
    "metrics_df = pd.DataFrame({\n",
    "    'Métrica': ['Accuracy', 'ROC-AUC', 'Precision', 'F1-Score', 'Custo de Manutenção'],\n",
    "    'Valor': [accuracy, roc_auc, precision, f1,custo_total]\n",
    "})\n",
    "print(metrics_df.to_string(index=False))"
   ]
  },
  {
   "cell_type": "markdown",
   "metadata": {},
   "source": [
    "### Analise de Variaveis de impacto"
   ]
  },
  {
   "cell_type": "code",
   "execution_count": 56,
   "metadata": {},
   "outputs": [
    {
     "data": {
      "image/png": "[encoded data removed]",
      "text/plain": [
       "<Figure size 1000x600 with 1 Axes>"
      ]
     },
     "metadata": {},
     "output_type": "display_data"
    },
    {
     "name": "stdout",
     "output_type": "stream",
     "text": [
      "  Feature  Importance\n",
      "0  aa_000    0.034126\n",
      "1  bv_000    0.033969\n",
      "2  bt_000    0.031707\n",
      "3  ci_000    0.028554\n",
      "4  bu_000    0.028131\n",
      "5  cc_000    0.024950\n",
      "6  bg_000    0.024222\n",
      "7  ap_000    0.024144\n",
      "8  ck_000    0.022021\n",
      "9  bj_000    0.021208\n"
     ]
    }
   ],
   "source": [
    "importances = model.feature_importances_\n",
    "feature_names = X_train.columns\n",
    "feature_importances = pd.DataFrame({'Feature': feature_names, 'Importance': importances})\n",
    "feature_importances = feature_importances.sort_values(by='Importance', ascending=False).reset_index(drop=True)\n",
    "\n",
    "# Seleciona as 10 mais importantes\n",
    "top_features = feature_importances.head(10)\n",
    "\n",
    "# Plot das feature importances\n",
    "plt.figure(figsize=(10, 6))\n",
    "plt.barh(top_features['Feature'], top_features['Importance'], color='skyblue')\n",
    "plt.xlabel('Importance')\n",
    "plt.title('Top 10 Feature Importances')\n",
    "plt.gca().invert_yaxis()\n",
    "plt.show()\n",
    "\n",
    "print(top_features)"
   ]
  },
  {
   "cell_type": "code",
   "execution_count": 65,
   "metadata": {},
   "outputs": [
    {
     "data": {
      "image/png": "[encoded data removed]",
      "text/plain": [
       "<Figure size 1000x600 with 1 Axes>"
      ]
     },
     "metadata": {},
     "output_type": "display_data"
    },
    {
     "name": "stdout",
     "output_type": "stream",
     "text": [
      "ci_000: 0.5500485911374812\n",
      "aa_000: 0.5369783925131331\n",
      "bt_000: 0.5339637421729146\n",
      "bb_000: 0.5295008094673576\n",
      "bv_000: 0.5280560327241699\n",
      "bu_000: 0.5280560084910475\n",
      "cq_000: 0.5280559918818959\n",
      "aq_000: 0.5188414060228823\n",
      "bj_000: 0.5134648500474254\n",
      "cc_000: 0.5118862485909568\n"
     ]
    }
   ],
   "source": [
    "# Calcular correlação ponto-bisserial para todas as variáveis contínuas\n",
    "correlations = {}\n",
    "for col in df_train.columns:\n",
    "    if df_train[col].dtype != 'object' and col != 'class_encoded':  # Selecionar apenas variáveis numéricas\n",
    "        corr, _ = pointbiserialr(df_train[col], df_train['class_encoded'])\n",
    "        correlations[col] = abs(corr)  # Armazenar o valor absoluto da correlação\n",
    "\n",
    "# Ordenar as variáveis pelo valor absoluto da correlação ponto-bisserial (em ordem decrescente)\n",
    "sorted_correlations = sorted(correlations.items(), key=lambda x: x[1], reverse=True)\n",
    "\n",
    "# Separar os nomes das variáveis e seus valores de correlação\n",
    "variables = [var for var, corr in sorted_correlations]\n",
    "corrs = [corr for var, corr in sorted_correlations]\n",
    "\n",
    "# Plotar gráfico de barras das correlações\n",
    "plt.figure(figsize=(10, 6))\n",
    "plt.barh(variables[:10], corrs[:10], color='skyblue')\n",
    "plt.xlabel('Correlação Ponto-Bisserial')\n",
    "plt.title('Top 10 Variáveis com Maior Correlação Ponto-Bisserial com a Variável Resposta')\n",
    "plt.gca().invert_yaxis()  # Inverter a ordem das variáveis para as maiores correlações no topo\n",
    "plt.show()\n",
    "\n",
    "top_variables = sorted_correlations[:10]\n",
    "for var, corr in top_variables:\n",
    "    print(f\"{var}: {corr}\")"
   ]
  },
  {
   "cell_type": "markdown",
   "metadata": {},
   "source": [
    "### Conclusao e Proximos passos"
   ]
  },
  {
   "cell_type": "markdown",
   "metadata": {},
   "source": [
    "#### Conclusão da Análise das Variáveis Impactantes para Defeitos no Sistema de Ar de Caminhões\n",
    "\n",
    "Após analisar as variáveis mais impactantes para o modelo e considerar as correlações ponto-bisserial com os maiores valores (próximos de 1, indicando forte impacto na ocorrência do evento codificado como 1, que pode ser defeito no sistema de ar do caminhão), podemos inferir o seguinte:\n",
    "\n",
    "- **Não há uma única variável de extremo impacto** que isoladamente determine se o caminhão apresentará defeitos no sistema de ar. Em vez disso, várias variáveis contribuem de forma combinada para a predição do defeito.\n",
    "\n",
    "- As variáveis **aa_000, bv_000, bt_000, ci_000 e bu_000** demonstram correlações ponto-bisserial acima de 0,5 com o evento de interesse (defeito no sistema de ar do caminhão) e são importantes para a tomada de decisão do modelo. Isso sugere que essas variáveis são importantes para a análise e podem oferecer insights sobre o estado desse sistema.\n",
    "\n",
    "- **Recomenda-se observar essas variáveis** de forma mais detalhada durante a análise do sistema de ar do caminhão. Investigar padrões, comportamentos anômalos ou mudanças nessas variáveis pode fornecer indicativos precoces de potenciais problemas no sistema de ar, permitindo ações corretivas proativas.\n",
    "\n",
    "- **A combinação de várias variáveis** (e não apenas uma) é essencial para uma análise robusta e preditiva. Ao monitorar essas variáveis em conjunto, é possível obter uma visão mais holística e precisa da condição do sistema de ar do caminhão. Num proximo passo seria interessante usar tecnicas de estatistica multivariada para analisar essas variaveis em conjunto, reduzindo a dimensionalidade do modelo e ajudando na interpretação de resultados como a correlação.\n",
    "\n",
    "Essas conclusões ajudam a direcionar a atenção para áreas específicas que merecem mais investigação e monitoramento, visando melhorar a eficiência e a confiabilidade do sistema de ar de caminhões.\n"
   ]
  }
 ],
 "metadata": {
  "kernelspec": {
   "display_name": "base",
   "language": "python",
   "name": "python3"
  },
  "language_info": {
   "codemirror_mode": {
    "name": "ipython",
    "version": 3
   },
   "file_extension": ".py",
   "mimetype": "text/x-python",
   "name": "python",
   "nbconvert_exporter": "python",
   "pygments_lexer": "ipython3",
   "version": "3.11.7"
  }
 },
 "nbformat": 4,
 "nbformat_minor": 2
}
